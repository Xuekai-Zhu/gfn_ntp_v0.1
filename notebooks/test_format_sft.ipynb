{
 "cells": [
  {
   "cell_type": "markdown",
   "metadata": {},
   "source": [
    "## testing sft formatting"
   ]
  },
  {
   "cell_type": "code",
   "execution_count": 2,
   "metadata": {},
   "outputs": [
    {
     "name": "stderr",
     "output_type": "stream",
     "text": [
      "/Users/matthewho/miniconda3/envs/gfn/lib/python3.10/site-packages/tqdm/auto.py:21: TqdmWarning: IProgress not found. Please update jupyter and ipywidgets. See https://ipywidgets.readthedocs.io/en/stable/user_install.html\n",
      "  from .autonotebook import tqdm as notebook_tqdm\n"
     ]
    }
   ],
   "source": [
    "from datasets import load_from_disk"
   ]
  },
  {
   "cell_type": "code",
   "execution_count": 3,
   "metadata": {},
   "outputs": [],
   "source": [
    "dataset = load_from_disk(\"../data/test_nns\")"
   ]
  },
  {
   "cell_type": "code",
   "execution_count": 6,
   "metadata": {},
   "outputs": [],
   "source": [
    "train = dataset[\"train\"]\n",
    "test = dataset[\"test\"]"
   ]
  },
  {
   "cell_type": "code",
   "execution_count": 10,
   "metadata": {},
   "outputs": [
    {
     "name": "stdout",
     "output_type": "stream",
     "text": [
      "Given the Lean 4 tactic state, suggest a next tactic.\n",
      "\n",
      "Tactic state:\n",
      "---\n",
      "α : Type u_1\n",
      "V : Type u_2\n",
      "P : Type u_3\n",
      "W : Type u_4\n",
      "Q : Type u_5\n",
      "inst✝⁵ : SeminormedAddCommGroup V\n",
      "inst✝⁴ : PseudoMetricSpace P\n",
      "inst✝³ : NormedAddTorsor V P\n",
      "inst✝² : NormedAddCommGroup W\n",
      "inst✝¹ : MetricSpace Q\n",
      "inst✝ : NormedAddTorsor W Q\n",
      "p₁ p₂ p₃ p₄ : P\n",
      "⊢ ↑(nndist (p₁ -ᵥ p₂) (p₃ -ᵥ p₄)) ≤ ↑(nndist p₁ p₃) + ↑(nndist p₂ p₄)\n",
      "---\n",
      "Next tactic:\n",
      "---\n",
      "\n"
     ]
    }
   ],
   "source": [
    "print(train[0][\"prompt\"])"
   ]
  },
  {
   "cell_type": "code",
   "execution_count": 11,
   "metadata": {},
   "outputs": [
    {
     "name": "stdout",
     "output_type": "stream",
     "text": [
      "norm_cast\n"
     ]
    }
   ],
   "source": [
    "print(train[0][\"completion\"])"
   ]
  },
  {
   "cell_type": "code",
   "execution_count": 15,
   "metadata": {},
   "outputs": [],
   "source": [
    "wns = load_from_disk(\"../data/test_wns\")\n",
    "train_wns = wns[\"train\"]\n",
    "test_wns = wns[\"test\"]"
   ]
  },
  {
   "cell_type": "code",
   "execution_count": 19,
   "metadata": {},
   "outputs": [
    {
     "name": "stdout",
     "output_type": "stream",
     "text": [
      "Given the Lean 4 tactic state, suggest a next tactic.\n",
      "\n",
      "Tactic state:\n",
      "---\n",
      "l : Type u_1\n",
      "m : Type u_2\n",
      "n : Type u_3\n",
      "o : Type u_4\n",
      "p : Type u_5\n",
      "q : Type u_6\n",
      "m' : o → Type u_7\n",
      "n' : o → Type u_8\n",
      "p' : o → Type u_9\n",
      "R : Type u_10\n",
      "S : Type u_11\n",
      "α : Type u_12\n",
      "β : Type u_13\n",
      "inst✝² : DecidableEq l\n",
      "inst✝¹ : DecidableEq m\n",
      "inst✝ : Zero α\n",
      "v : l ⊕ m → α\n",
      "⊢ (of fun i j => diagonal v (Sum.inr i) (Sum.inr j)) = diagonal fun i => v (Sum.inr i)\n",
      "---\n",
      "Next tactic:\n",
      "---\n",
      "\n"
     ]
    }
   ],
   "source": [
    "print(train_wns[0][\"prompt\"])"
   ]
  },
  {
   "cell_type": "code",
   "execution_count": 20,
   "metadata": {},
   "outputs": [
    {
     "name": "stdout",
     "output_type": "stream",
     "text": [
      "funext i j\n",
      "---\n",
      "Resulting state:\n",
      "---\n",
      "case h.h\n",
      "l : Type u_1\n",
      "m : Type u_2\n",
      "n : Type u_3\n",
      "o : Type u_4\n",
      "p : Type u_5\n",
      "q : Type u_6\n",
      "m' : o → Type u_7\n",
      "n' : o → Type u_8\n",
      "p' : o → Type u_9\n",
      "R : Type u_10\n",
      "S : Type u_11\n",
      "α : Type u_12\n",
      "β : Type u_13\n",
      "inst✝² : DecidableEq l\n",
      "inst✝¹ : DecidableEq m\n",
      "inst✝ : Zero α\n",
      "v : l ⊕ m → α\n",
      "i j : m\n",
      "⊢ of (fun i j => diagonal v (Sum.inr i) (Sum.inr j)) i j = diagonal (fun i => v (Sum.inr i)) i j\n",
      "\n"
     ]
    }
   ],
   "source": [
    "print(train_wns[0][\"completion\"])"
   ]
  }
 ],
 "metadata": {
  "kernelspec": {
   "display_name": "gfn",
   "language": "python",
   "name": "python3"
  },
  "language_info": {
   "codemirror_mode": {
    "name": "ipython",
    "version": 3
   },
   "file_extension": ".py",
   "mimetype": "text/x-python",
   "name": "python",
   "nbconvert_exporter": "python",
   "pygments_lexer": "ipython3",
   "version": "3.10.14"
  }
 },
 "nbformat": 4,
 "nbformat_minor": 2
}

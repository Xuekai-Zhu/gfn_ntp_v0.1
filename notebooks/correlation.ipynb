{
 "cells": [
  {
   "cell_type": "code",
   "execution_count": 3,
   "metadata": {},
   "outputs": [],
   "source": [
    "import numpy as np\n",
    "import pandas as pd\n",
    "import json\n",
    "import matplotlib.pyplot as plt\n",
    "from pathlib import Path"
   ]
  },
  {
   "cell_type": "code",
   "execution_count": 13,
   "metadata": {},
   "outputs": [],
   "source": [
    "plt.style.use('rose-pine-dawn')"
   ]
  },
  {
   "cell_type": "code",
   "execution_count": 4,
   "metadata": {},
   "outputs": [],
   "source": [
    "THM_JSON = \"/Users/matthewho/Documents/research/gfn_ntp/data/novel_premises_train_md3_tl30.json\"\n",
    "TEMP_DIR = Path(\"/Users/matthewho/Documents/research/lean-dojo-optimized-init/temp\")\n",
    "with open(THM_JSON, 'r') as f:\n",
    "    data = json.load(f)"
   ]
  },
  {
   "cell_type": "code",
   "execution_count": 5,
   "metadata": {},
   "outputs": [
    {
     "data": {
      "text/plain": [
       "27458"
      ]
     },
     "execution_count": 5,
     "metadata": {},
     "output_type": "execute_result"
    }
   ],
   "source": [
    "len(data)"
   ]
  },
  {
   "cell_type": "code",
   "execution_count": 6,
   "metadata": {},
   "outputs": [],
   "source": [
    "data = sorted(\n",
    "    data,\n",
    "    key=lambda thm: thm[\"start\"][0]\n",
    ")"
   ]
  },
  {
   "cell_type": "code",
   "execution_count": 9,
   "metadata": {},
   "outputs": [],
   "source": [
    "def start_line(thm):\n",
    "    return thm[\"start\"][0]"
   ]
  },
  {
   "cell_type": "code",
   "execution_count": 10,
   "metadata": {},
   "outputs": [],
   "source": [
    "start_lines = [start_line(thm) for thm in data]"
   ]
  },
  {
   "cell_type": "code",
   "execution_count": 16,
   "metadata": {},
   "outputs": [],
   "source": [
    "start_lines = np.array(start_lines)"
   ]
  },
  {
   "cell_type": "code",
   "execution_count": 11,
   "metadata": {},
   "outputs": [],
   "source": [
    "unique_ct = len(set(start_lines))"
   ]
  },
  {
   "cell_type": "code",
   "execution_count": 14,
   "metadata": {},
   "outputs": [
    {
     "data": {
      "text/plain": [
       "(array([2., 2., 0., ..., 0., 0., 1.]),\n",
       " array([   9. ,   10.6,   12.2, ..., 3893.8, 3895.4, 3897. ]),\n",
       " <BarContainer object of 2430 artists>)"
      ]
     },
     "execution_count": 14,
     "metadata": {},
     "output_type": "execute_result"
    },
    {
     "data": {
      "image/png": "[encoded data removed]",
      "text/plain": [
       "<Figure size 640x480 with 1 Axes>"
      ]
     },
     "metadata": {},
     "output_type": "display_data"
    }
   ],
   "source": [
    "plt.hist(start_lines, bins=unique_ct)"
   ]
  },
  {
   "cell_type": "code",
   "execution_count": 17,
   "metadata": {},
   "outputs": [],
   "source": [
    "def proportion_over(data, threshold):\n",
    "    return np.mean(data > threshold)"
   ]
  },
  {
   "cell_type": "code",
   "execution_count": 22,
   "metadata": {},
   "outputs": [
    {
     "name": "stdout",
     "output_type": "stream",
     "text": [
      "Total theorems: 27458\n",
      "Proportion of theorems over 200: 0.653980624954476\n",
      "Proportion of theorems over 400: 0.41936776167237233\n",
      "Proportion of theorems over 600: 0.2841794741059072\n",
      "Proportion of theorems over 800: 0.1938961322747469\n",
      "Proportion of theorems over 1000: 0.13722776604268336\n",
      "Proportion of theorems over 1200: 0.09756719353193968\n",
      "Proportion of theorems over 1400: 0.06941510670842742\n",
      "Proportion of theorems over 1600: 0.04978512637482701\n",
      "Proportion of theorems over 1800: 0.03565445407531503\n",
      "Proportion of theorems over 2000: 0.02658605870784471\n"
     ]
    }
   ],
   "source": [
    "print(f\"Total theorems: {len(start_lines)}\")\n",
    "thresholds = range(200, 2200, 200)\n",
    "for threshold in thresholds:\n",
    "    print(f\"Proportion of theorems over {threshold}: {proportion_over(start_lines, threshold)}\")"
   ]
  },
  {
   "cell_type": "code",
   "execution_count": 23,
   "metadata": {},
   "outputs": [
    {
     "name": "stdout",
     "output_type": "stream",
     "text": [
      "Decile 0: 9.0\n",
      "Decile 1: 80.0\n",
      "Decile 2: 124.0\n",
      "Decile 3: 174.0\n",
      "Decile 4: 235.0\n",
      "Decile 5: 315.0\n",
      "Decile 6: 423.0\n",
      "Decile 7: 570.0\n",
      "Decile 8: 784.0\n",
      "Decile 9: 1184.0\n",
      "Decile 10: 3897.0\n"
     ]
    }
   ],
   "source": [
    "# print deciles of data\n",
    "deciles = np.percentile(start_lines, range(0, 101, 10))\n",
    "for i, decile in enumerate(deciles):\n",
    "    print(f\"Decile {i}: {decile}\")"
   ]
  },
  {
   "cell_type": "code",
   "execution_count": 29,
   "metadata": {},
   "outputs": [],
   "source": [
    "def get_percentile_samples(sorted_list_of_dicts, samples):\n",
    "    # Total number of dictionaries\n",
    "    total_dicts = len(sorted_list_of_dicts)\n",
    "    \n",
    "    # Calculate indices for each decile: 10%, 20%, ..., 100%\n",
    "    # We use max(0, i - 1) to ensure we do not use an index of -1 for the first decile.\n",
    "    idxs = [max(0, int(total_dicts * i / samples) - 1) for i in range(1, samples + 1)]\n",
    "    \n",
    "    # Extract the dictionary at each decile index\n",
    "    return [sorted_list_of_dicts[index] for index in idxs]\n",
    "\n",
    "# Example usage\n",
    "samples = get_percentile_samples(data, 16)"
   ]
  },
  {
   "cell_type": "code",
   "execution_count": 30,
   "metadata": {},
   "outputs": [
    {
     "data": {
      "text/plain": [
       "[64,\n",
       " 90,\n",
       " 119,\n",
       " 148,\n",
       " 180,\n",
       " 219,\n",
       " 263,\n",
       " 315,\n",
       " 378,\n",
       " 454,\n",
       " 548,\n",
       " 673,\n",
       " 818,\n",
       " 1055,\n",
       " 1462,\n",
       " 3897]"
      ]
     },
     "execution_count": 30,
     "metadata": {},
     "output_type": "execute_result"
    }
   ],
   "source": [
    "[start_line(thm) for thm in samples]"
   ]
  },
  {
   "cell_type": "code",
   "execution_count": 33,
   "metadata": {},
   "outputs": [],
   "source": [
    "samples = get_percentile_samples(data, 256)\n",
    "with open(\"thms_by_start.json\", 'w') as f:\n",
    "    json.dump(samples, f, indent=4)"
   ]
  }
 ],
 "metadata": {
  "kernelspec": {
   "display_name": "gfn",
   "language": "python",
   "name": "python3"
  },
  "language_info": {
   "codemirror_mode": {
    "name": "ipython",
    "version": 3
   },
   "file_extension": ".py",
   "mimetype": "text/x-python",
   "name": "python",
   "nbconvert_exporter": "python",
   "pygments_lexer": "ipython3",
   "version": "3.10.14"
  }
 },
 "nbformat": 4,
 "nbformat_minor": 2
}

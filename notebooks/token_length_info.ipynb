{
 "cells": [
  {
   "cell_type": "markdown",
   "metadata": {},
   "source": [
    "## token length states"
   ]
  },
  {
   "cell_type": "code",
   "execution_count": 6,
   "metadata": {},
   "outputs": [],
   "source": [
    "import argparse\n",
    "import json\n",
    "import sys\n",
    "import os\n",
    "import pandas as pd\n",
    "import matplotlib.pyplot as plt\n",
    "from transformers import AutoTokenizer\n",
    "\n",
    "# make proof_flow package available for imports\n",
    "sys.path.append(os.path.abspath(os.path.join('..')))\n",
    "from proof_flow.src.utils import repo_root"
   ]
  },
  {
   "cell_type": "code",
   "execution_count": 7,
   "metadata": {},
   "outputs": [],
   "source": [
    "plt.style.use(\"rose-pine\")"
   ]
  },
  {
   "cell_type": "code",
   "execution_count": 16,
   "metadata": {},
   "outputs": [],
   "source": [
    "def token_length_info(\n",
    "    hf_model_id: str,\n",
    "    dataset_path: str,\n",
    "):\n",
    "    tokenizer = AutoTokenizer.from_pretrained(hf_model_id)\n",
    "    path = repo_root() / \"data\" / dataset_path\n",
    "    with open(path, \"r\") as f:\n",
    "        dataset = json.load(f)\n",
    "    \n",
    "    # per theorem\n",
    "    start_state_lengths = []\n",
    "    max_state_length = []\n",
    "    max_tactic_length = []\n",
    "\n",
    "    for thm_dict in dataset.values():\n",
    "        state_lengths = []\n",
    "        tactic_lengths = []\n",
    "        for tt in thm_dict[\"traced_tactics\"]:\n",
    "            state_lengths.append(\n",
    "                len(tokenizer.encode(tt[\"state_before\"]))\n",
    "            )\n",
    "            tactic_lengths.append(\n",
    "                len(tokenizer.encode(tt[\"tactic\"]))\n",
    "            )\n",
    "        start_state_lengths.append(state_lengths[0])\n",
    "        max_state_length.append(max(state_lengths))\n",
    "        max_tactic_length.append(max(tactic_lengths))\n",
    "    \n",
    "    df = pd.DataFrame({\n",
    "        \"thm_idx\": list(dataset.keys()),\n",
    "        \"start_state_lengths\": start_state_lengths,\n",
    "        \"max_state_length\": max_state_length,\n",
    "        \"max_tactic_length\": max_tactic_length,\n",
    "    })\n",
    "    df[\"max/start\"] = df[\"max_state_length\"] / df[\"start_state_lengths\"]\n",
    "    print(f\"max state length: {max(max_state_length)}\")\n",
    "    print(df.describe())\n",
    "\n",
    "    return df"
   ]
  },
  {
   "cell_type": "code",
   "execution_count": 17,
   "metadata": {},
   "outputs": [],
   "source": [
    "reprover_tacgen_id = \"kaiyuy/leandojo-lean4-tacgen-byt5-small\""
   ]
  },
  {
   "cell_type": "code",
   "execution_count": 18,
   "metadata": {},
   "outputs": [],
   "source": [
    "long1k_file = \"long1k_train.json\""
   ]
  },
  {
   "cell_type": "code",
   "execution_count": 19,
   "metadata": {},
   "outputs": [
    {
     "name": "stdout",
     "output_type": "stream",
     "text": [
      "max state length: 265\n",
      "       start_state_lengths  max_state_length  max_tactic_length    max/start\n",
      "count          1000.000000       1000.000000        1000.000000  1000.000000\n",
      "mean            111.240000        138.448000          40.627000     1.344350\n",
      "std              45.493341         47.104035          16.094064     0.515614\n",
      "min              14.000000         25.000000           4.000000     1.000000\n",
      "25%              77.000000        102.000000          28.000000     1.056325\n",
      "50%             110.000000        142.000000          41.000000     1.200000\n",
      "75%             145.000000        174.000000          52.000000     1.429121\n",
      "max             230.000000        265.000000          87.000000     6.481481\n"
     ]
    }
   ],
   "source": [
    "df = token_length_info(\n",
    "    hf_model_id=reprover_tacgen_id,\n",
    "    dataset_path=long1k_file,\n",
    ")"
   ]
  },
  {
   "cell_type": "code",
   "execution_count": 15,
   "metadata": {},
   "outputs": [
    {
     "data": {
      "text/plain": [
       "(array([244.,  98.,  92., 106.,  68.,  72.,  36.,  41.,  32.,  27.,  26.,\n",
       "         18.,  21.,  15.,  14.,   6.,   9.,  11.,   3.,   4.,   5.,   0.,\n",
       "          8.,   6.,   1.,   6.,   3.,   1.,   2.,   2.,   0.,   0.,   3.,\n",
       "          0.,   0.,   0.,   1.,   1.,   1.,   2.,   1.,   1.,   0.,   1.,\n",
       "          0.,   0.,   3.,   0.,   3.,   0.,   0.,   0.,   1.,   0.,   0.,\n",
       "          0.,   0.,   0.,   0.,   0.,   0.,   0.,   0.,   0.,   0.,   0.,\n",
       "          1.,   0.,   0.,   0.,   0.,   0.,   1.,   0.,   0.,   0.,   0.,\n",
       "          0.,   0.,   0.,   0.,   0.,   0.,   0.,   0.,   0.,   0.,   0.,\n",
       "          0.,   0.,   0.,   0.,   1.,   0.,   0.,   1.,   0.,   0.,   0.,\n",
       "          1.]),\n",
       " array([1.        , 1.05481481, 1.10962963, 1.16444444, 1.21925926,\n",
       "        1.27407407, 1.32888889, 1.3837037 , 1.43851852, 1.49333333,\n",
       "        1.54814815, 1.60296296, 1.65777778, 1.71259259, 1.76740741,\n",
       "        1.82222222, 1.87703704, 1.93185185, 1.98666667, 2.04148148,\n",
       "        2.0962963 , 2.15111111, 2.20592593, 2.26074074, 2.31555556,\n",
       "        2.37037037, 2.42518519, 2.48      , 2.53481481, 2.58962963,\n",
       "        2.64444444, 2.69925926, 2.75407407, 2.80888889, 2.8637037 ,\n",
       "        2.91851852, 2.97333333, 3.02814815, 3.08296296, 3.13777778,\n",
       "        3.19259259, 3.24740741, 3.30222222, 3.35703704, 3.41185185,\n",
       "        3.46666667, 3.52148148, 3.5762963 , 3.63111111, 3.68592593,\n",
       "        3.74074074, 3.79555556, 3.85037037, 3.90518519, 3.96      ,\n",
       "        4.01481481, 4.06962963, 4.12444444, 4.17925926, 4.23407407,\n",
       "        4.28888889, 4.3437037 , 4.39851852, 4.45333333, 4.50814815,\n",
       "        4.56296296, 4.61777778, 4.67259259, 4.72740741, 4.78222222,\n",
       "        4.83703704, 4.89185185, 4.94666667, 5.00148148, 5.0562963 ,\n",
       "        5.11111111, 5.16592593, 5.22074074, 5.27555556, 5.33037037,\n",
       "        5.38518519, 5.44      , 5.49481481, 5.54962963, 5.60444444,\n",
       "        5.65925926, 5.71407407, 5.76888889, 5.8237037 , 5.87851852,\n",
       "        5.93333333, 5.98814815, 6.04296296, 6.09777778, 6.15259259,\n",
       "        6.20740741, 6.26222222, 6.31703704, 6.37185185, 6.42666667,\n",
       "        6.48148148]),\n",
       " <BarContainer object of 100 artists>)"
      ]
     },
     "execution_count": 15,
     "metadata": {},
     "output_type": "execute_result"
    },
    {
     "data": {
      "image/png": "[encoded data removed]",
      "text/plain": [
       "<Figure size 640x480 with 1 Axes>"
      ]
     },
     "metadata": {},
     "output_type": "display_data"
    }
   ],
   "source": [
    "plt.hist(df[\"max/start\"], bins=100)"
   ]
  }
 ],
 "metadata": {
  "kernelspec": {
   "display_name": "gfn",
   "language": "python",
   "name": "python3"
  },
  "language_info": {
   "codemirror_mode": {
    "name": "ipython",
    "version": 3
   },
   "file_extension": ".py",
   "mimetype": "text/x-python",
   "name": "python",
   "nbconvert_exporter": "python",
   "pygments_lexer": "ipython3",
   "version": "3.10.14"
  }
 },
 "nbformat": 4,
 "nbformat_minor": 2
}
